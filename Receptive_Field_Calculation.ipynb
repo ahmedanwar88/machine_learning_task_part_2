{
  "nbformat": 4,
  "nbformat_minor": 0,
  "metadata": {
    "colab": {
      "name": "Receptive_Field_Calculation.ipynb",
      "provenance": []
    },
    "kernelspec": {
      "name": "python3",
      "display_name": "Python 3"
    },
    "language_info": {
      "name": "python"
    }
  },
  "cells": [
    {
      "cell_type": "markdown",
      "source": [
        "# Clone and Installation"
      ],
      "metadata": {
        "id": "Hfz14A9SApfI"
      }
    },
    {
      "cell_type": "markdown",
      "source": [
        "The calculation of the receptive field is based on this Github repository:\n",
        "https://github.com/google-research/receptive_field\n"
      ],
      "metadata": {
        "id": "6_HBB-soRln3"
      }
    },
    {
      "cell_type": "code",
      "source": [
        "! git clone https://github.com/google-research/receptive_field.git"
      ],
      "metadata": {
        "colab": {
          "base_uri": "https://localhost:8080/"
        },
        "id": "9KkxVHZLoytt",
        "outputId": "1da09fa5-2c88-4687-c082-82e380319b9e"
      },
      "execution_count": 2,
      "outputs": [
        {
          "output_type": "stream",
          "name": "stdout",
          "text": [
            "Cloning into 'receptive_field'...\n",
            "remote: Enumerating objects: 79, done.\u001b[K\n",
            "remote: Counting objects: 100% (7/7), done.\u001b[K\n",
            "remote: Compressing objects: 100% (3/3), done.\u001b[K\n",
            "remote: Total 79 (delta 4), reused 4 (delta 4), pack-reused 72\u001b[K\n",
            "Unpacking objects: 100% (79/79), done.\n"
          ]
        }
      ]
    },
    {
      "cell_type": "markdown",
      "source": [
        "I made a change to the file located at:\n",
        "\n",
        "*receptive_field/receptive_field/python/util/parse_layer_parameters.py*\n",
        "\n",
        "This change handles some issues in the repository to calculate the receptive field of MobileNetV2.\n",
        "\n",
        "The modified file is located in this repository. Please copy and replace it at:\n",
        "\n",
        "*receptive_field/receptive_field/python/util/parse_layer_parameters.py*"
      ],
      "metadata": {
        "id": "DpoozJjQSB_a"
      }
    },
    {
      "cell_type": "code",
      "source": [
        "!cp /content/parse_layer_parameters.py /content/receptive_field/receptive_field/python/util"
      ],
      "metadata": {
        "id": "ErcZqVQKTGcF"
      },
      "execution_count": 5,
      "outputs": []
    },
    {
      "cell_type": "code",
      "source": [
        "%cd /content/receptive_field"
      ],
      "metadata": {
        "colab": {
          "base_uri": "https://localhost:8080/"
        },
        "id": "rXkxNvjKTLcJ",
        "outputId": "36a2a541-216b-4bc8-ff5a-7a01df897ee6"
      },
      "execution_count": 6,
      "outputs": [
        {
          "output_type": "stream",
          "name": "stdout",
          "text": [
            "/content/receptive_field\n"
          ]
        }
      ]
    },
    {
      "cell_type": "code",
      "source": [
        "! pip install ."
      ],
      "metadata": {
        "id": "6tOeMq6Fo9Qe",
        "colab": {
          "base_uri": "https://localhost:8080/"
        },
        "outputId": "dfeb13c1-f9cd-466d-8b91-4c9b72fcc712"
      },
      "execution_count": 7,
      "outputs": [
        {
          "output_type": "stream",
          "name": "stdout",
          "text": [
            "Looking in indexes: https://pypi.org/simple, https://us-python.pkg.dev/colab-wheels/public/simple/\n",
            "Processing /content/receptive_field\n",
            "\u001b[33m  DEPRECATION: A future pip version will change local packages to be built in-place without first copying to a temporary directory. We recommend you use --use-feature=in-tree-build to test your packages with this new behavior before it becomes the default.\n",
            "   pip 21.3 will remove support for this functionality. You can find discussion regarding this at https://github.com/pypa/pip/issues/7555.\u001b[0m\n",
            "Requirement already satisfied: absl-py>=0.2.2 in /usr/local/lib/python3.7/dist-packages (from receptive-field==1.1) (1.1.0)\n",
            "Requirement already satisfied: protobuf in /usr/local/lib/python3.7/dist-packages (from receptive-field==1.1) (3.17.3)\n",
            "Requirement already satisfied: numpy in /usr/local/lib/python3.7/dist-packages (from receptive-field==1.1) (1.21.6)\n",
            "Requirement already satisfied: tensorflow>=1.10 in /usr/local/lib/python3.7/dist-packages (from receptive-field==1.1) (2.8.2+zzzcolab20220527125636)\n",
            "Collecting tf_slim>=1.0\n",
            "  Downloading tf_slim-1.1.0-py2.py3-none-any.whl (352 kB)\n",
            "\u001b[K     |████████████████████████████████| 352 kB 5.2 MB/s \n",
            "\u001b[?25hRequirement already satisfied: libclang>=9.0.1 in /usr/local/lib/python3.7/dist-packages (from tensorflow>=1.10->receptive-field==1.1) (14.0.1)\n",
            "Requirement already satisfied: typing-extensions>=3.6.6 in /usr/local/lib/python3.7/dist-packages (from tensorflow>=1.10->receptive-field==1.1) (4.1.1)\n",
            "Requirement already satisfied: google-pasta>=0.1.1 in /usr/local/lib/python3.7/dist-packages (from tensorflow>=1.10->receptive-field==1.1) (0.2.0)\n",
            "Requirement already satisfied: astunparse>=1.6.0 in /usr/local/lib/python3.7/dist-packages (from tensorflow>=1.10->receptive-field==1.1) (1.6.3)\n",
            "Requirement already satisfied: wrapt>=1.11.0 in /usr/local/lib/python3.7/dist-packages (from tensorflow>=1.10->receptive-field==1.1) (1.14.1)\n",
            "Requirement already satisfied: h5py>=2.9.0 in /usr/local/lib/python3.7/dist-packages (from tensorflow>=1.10->receptive-field==1.1) (3.1.0)\n",
            "Requirement already satisfied: keras<2.9,>=2.8.0rc0 in /usr/local/lib/python3.7/dist-packages (from tensorflow>=1.10->receptive-field==1.1) (2.8.0)\n",
            "Requirement already satisfied: six>=1.12.0 in /usr/local/lib/python3.7/dist-packages (from tensorflow>=1.10->receptive-field==1.1) (1.15.0)\n",
            "Requirement already satisfied: tensorboard<2.9,>=2.8 in /usr/local/lib/python3.7/dist-packages (from tensorflow>=1.10->receptive-field==1.1) (2.8.0)\n",
            "Requirement already satisfied: gast>=0.2.1 in /usr/local/lib/python3.7/dist-packages (from tensorflow>=1.10->receptive-field==1.1) (0.5.3)\n",
            "Requirement already satisfied: tensorflow-estimator<2.9,>=2.8 in /usr/local/lib/python3.7/dist-packages (from tensorflow>=1.10->receptive-field==1.1) (2.8.0)\n",
            "Requirement already satisfied: tensorflow-io-gcs-filesystem>=0.23.1 in /usr/local/lib/python3.7/dist-packages (from tensorflow>=1.10->receptive-field==1.1) (0.26.0)\n",
            "Requirement already satisfied: termcolor>=1.1.0 in /usr/local/lib/python3.7/dist-packages (from tensorflow>=1.10->receptive-field==1.1) (1.1.0)\n",
            "Requirement already satisfied: setuptools in /usr/local/lib/python3.7/dist-packages (from tensorflow>=1.10->receptive-field==1.1) (57.4.0)\n",
            "Requirement already satisfied: grpcio<2.0,>=1.24.3 in /usr/local/lib/python3.7/dist-packages (from tensorflow>=1.10->receptive-field==1.1) (1.46.3)\n",
            "Requirement already satisfied: flatbuffers>=1.12 in /usr/local/lib/python3.7/dist-packages (from tensorflow>=1.10->receptive-field==1.1) (2.0)\n",
            "Requirement already satisfied: keras-preprocessing>=1.1.1 in /usr/local/lib/python3.7/dist-packages (from tensorflow>=1.10->receptive-field==1.1) (1.1.2)\n",
            "Requirement already satisfied: opt-einsum>=2.3.2 in /usr/local/lib/python3.7/dist-packages (from tensorflow>=1.10->receptive-field==1.1) (3.3.0)\n",
            "Requirement already satisfied: wheel<1.0,>=0.23.0 in /usr/local/lib/python3.7/dist-packages (from astunparse>=1.6.0->tensorflow>=1.10->receptive-field==1.1) (0.37.1)\n",
            "Requirement already satisfied: cached-property in /usr/local/lib/python3.7/dist-packages (from h5py>=2.9.0->tensorflow>=1.10->receptive-field==1.1) (1.5.2)\n",
            "Requirement already satisfied: google-auth<3,>=1.6.3 in /usr/local/lib/python3.7/dist-packages (from tensorboard<2.9,>=2.8->tensorflow>=1.10->receptive-field==1.1) (1.35.0)\n",
            "Requirement already satisfied: requests<3,>=2.21.0 in /usr/local/lib/python3.7/dist-packages (from tensorboard<2.9,>=2.8->tensorflow>=1.10->receptive-field==1.1) (2.23.0)\n",
            "Requirement already satisfied: tensorboard-data-server<0.7.0,>=0.6.0 in /usr/local/lib/python3.7/dist-packages (from tensorboard<2.9,>=2.8->tensorflow>=1.10->receptive-field==1.1) (0.6.1)\n",
            "Requirement already satisfied: tensorboard-plugin-wit>=1.6.0 in /usr/local/lib/python3.7/dist-packages (from tensorboard<2.9,>=2.8->tensorflow>=1.10->receptive-field==1.1) (1.8.1)\n",
            "Requirement already satisfied: werkzeug>=0.11.15 in /usr/local/lib/python3.7/dist-packages (from tensorboard<2.9,>=2.8->tensorflow>=1.10->receptive-field==1.1) (1.0.1)\n",
            "Requirement already satisfied: markdown>=2.6.8 in /usr/local/lib/python3.7/dist-packages (from tensorboard<2.9,>=2.8->tensorflow>=1.10->receptive-field==1.1) (3.3.7)\n",
            "Requirement already satisfied: google-auth-oauthlib<0.5,>=0.4.1 in /usr/local/lib/python3.7/dist-packages (from tensorboard<2.9,>=2.8->tensorflow>=1.10->receptive-field==1.1) (0.4.6)\n",
            "Requirement already satisfied: cachetools<5.0,>=2.0.0 in /usr/local/lib/python3.7/dist-packages (from google-auth<3,>=1.6.3->tensorboard<2.9,>=2.8->tensorflow>=1.10->receptive-field==1.1) (4.2.4)\n",
            "Requirement already satisfied: pyasn1-modules>=0.2.1 in /usr/local/lib/python3.7/dist-packages (from google-auth<3,>=1.6.3->tensorboard<2.9,>=2.8->tensorflow>=1.10->receptive-field==1.1) (0.2.8)\n",
            "Requirement already satisfied: rsa<5,>=3.1.4 in /usr/local/lib/python3.7/dist-packages (from google-auth<3,>=1.6.3->tensorboard<2.9,>=2.8->tensorflow>=1.10->receptive-field==1.1) (4.8)\n",
            "Requirement already satisfied: requests-oauthlib>=0.7.0 in /usr/local/lib/python3.7/dist-packages (from google-auth-oauthlib<0.5,>=0.4.1->tensorboard<2.9,>=2.8->tensorflow>=1.10->receptive-field==1.1) (1.3.1)\n",
            "Requirement already satisfied: importlib-metadata>=4.4 in /usr/local/lib/python3.7/dist-packages (from markdown>=2.6.8->tensorboard<2.9,>=2.8->tensorflow>=1.10->receptive-field==1.1) (4.11.4)\n",
            "Requirement already satisfied: zipp>=0.5 in /usr/local/lib/python3.7/dist-packages (from importlib-metadata>=4.4->markdown>=2.6.8->tensorboard<2.9,>=2.8->tensorflow>=1.10->receptive-field==1.1) (3.8.0)\n",
            "Requirement already satisfied: pyasn1<0.5.0,>=0.4.6 in /usr/local/lib/python3.7/dist-packages (from pyasn1-modules>=0.2.1->google-auth<3,>=1.6.3->tensorboard<2.9,>=2.8->tensorflow>=1.10->receptive-field==1.1) (0.4.8)\n",
            "Requirement already satisfied: certifi>=2017.4.17 in /usr/local/lib/python3.7/dist-packages (from requests<3,>=2.21.0->tensorboard<2.9,>=2.8->tensorflow>=1.10->receptive-field==1.1) (2022.6.15)\n",
            "Requirement already satisfied: chardet<4,>=3.0.2 in /usr/local/lib/python3.7/dist-packages (from requests<3,>=2.21.0->tensorboard<2.9,>=2.8->tensorflow>=1.10->receptive-field==1.1) (3.0.4)\n",
            "Requirement already satisfied: urllib3!=1.25.0,!=1.25.1,<1.26,>=1.21.1 in /usr/local/lib/python3.7/dist-packages (from requests<3,>=2.21.0->tensorboard<2.9,>=2.8->tensorflow>=1.10->receptive-field==1.1) (1.24.3)\n",
            "Requirement already satisfied: idna<3,>=2.5 in /usr/local/lib/python3.7/dist-packages (from requests<3,>=2.21.0->tensorboard<2.9,>=2.8->tensorflow>=1.10->receptive-field==1.1) (2.10)\n",
            "Requirement already satisfied: oauthlib>=3.0.0 in /usr/local/lib/python3.7/dist-packages (from requests-oauthlib>=0.7.0->google-auth-oauthlib<0.5,>=0.4.1->tensorboard<2.9,>=2.8->tensorflow>=1.10->receptive-field==1.1) (3.2.0)\n",
            "Building wheels for collected packages: receptive-field\n",
            "  Building wheel for receptive-field (setup.py) ... \u001b[?25l\u001b[?25hdone\n",
            "  Created wheel for receptive-field: filename=receptive_field-1.1-py3-none-any.whl size=43180 sha256=763a42eb12f454a6133dd2d593d341b0aa3dd550798376e1c8eada119e599899\n",
            "  Stored in directory: /tmp/pip-ephem-wheel-cache-kv6j3tf1/wheels/3f/a2/0b/9c6dcdcfd28a81d9ea38d0b6190ab8bbdc889f4d34c5df3949\n",
            "Successfully built receptive-field\n",
            "Installing collected packages: tf-slim, receptive-field\n",
            "Successfully installed receptive-field-1.1 tf-slim-1.1.0\n"
          ]
        }
      ]
    },
    {
      "cell_type": "markdown",
      "source": [
        "# Imports"
      ],
      "metadata": {
        "id": "os5GOF3Yovh2"
      }
    },
    {
      "cell_type": "code",
      "source": [
        "import tensorflow.compat.v1 as tf\n",
        "import receptive_field as rf"
      ],
      "metadata": {
        "id": "-ImchCaDzw_U"
      },
      "execution_count": 8,
      "outputs": []
    },
    {
      "cell_type": "markdown",
      "source": [
        "# Configs"
      ],
      "metadata": {
        "id": "m2ksYC4kDAbj"
      }
    },
    {
      "cell_type": "code",
      "source": [
        "class configs:\n",
        "  input_node = 'input_image' #Choose an input name for the input node of your model\n",
        "  output_node = 'Conv_1/Conv2D' #Specify the name of the last convolutional layer of your model"
      ],
      "metadata": {
        "id": "FJIxfXqBDBF4"
      },
      "execution_count": 19,
      "outputs": []
    },
    {
      "cell_type": "markdown",
      "source": [
        "# Calculate Receptive Field"
      ],
      "metadata": {
        "id": "DfsaceUkBbJI"
      }
    },
    {
      "cell_type": "code",
      "source": [
        "def get_receptive_field(configs):\n",
        "  \"\"\"Calculates the receptive field of a model (MobileNetV2 in this solution).\n",
        "  \n",
        "  Args:\n",
        "    configs: Configurations class\n",
        "  \n",
        "  Returns:\n",
        "    receptive_field_x, receptive_field_y: Receptive field x and y\n",
        "  \"\"\"\n",
        "  g = tf.Graph()\n",
        "  with g.as_default():\n",
        "    tf.keras.backend.set_learning_phase(0) # Disable BN learning.\n",
        "    x = tf.keras.Input([None, None, 3], name=configs.input_node)\n",
        "    model = tf.keras.applications.MobileNetV2(input_tensor=x,\n",
        "                                              include_top=False,\n",
        "                                                weights=None)\n",
        "  graph_def = g.as_graph_def()\n",
        "  (receptive_field_x, receptive_field_y, effective_stride_x,\n",
        "  effective_stride_y, effective_padding_x, effective_padding_y) = (\n",
        "          rf.compute_receptive_field_from_graph_def(graph_def, configs.input_node,\n",
        "                                                    configs.output_node))\n",
        "  return receptive_field_x, receptive_field_y"
      ],
      "metadata": {
        "id": "XXaCm2PFBgtZ"
      },
      "execution_count": 22,
      "outputs": []
    },
    {
      "cell_type": "code",
      "source": [
        "rf_x, rf_y = get_receptive_field(configs)\n",
        "print(\"Receptive field x = {}\\nReceptive field y = {}\".format(rf_x, rf_y))"
      ],
      "metadata": {
        "colab": {
          "base_uri": "https://localhost:8080/"
        },
        "id": "rismqshIB-_h",
        "outputId": "5f2a9702-7f05-4684-ed00-32f2c1d8f7c1"
      },
      "execution_count": 23,
      "outputs": [
        {
          "output_type": "stream",
          "name": "stderr",
          "text": [
            "/usr/local/lib/python3.7/dist-packages/keras/backend.py:450: UserWarning: `tf.keras.backend.set_learning_phase` is deprecated and will be removed after 2020-10-11. To update it, simply pass a True/False value to the `training` argument of the `__call__` method of your layer or model.\n",
            "  warnings.warn('`tf.keras.backend.set_learning_phase` is deprecated and '\n",
            "WARNING:absl:Padding depends on input size, which means that the effective padding may be different depending on the input image dimensionality. In this case, alignment check will be skipped. If you know the input resolution, please set it.\n",
            "WARNING:absl:Padding depends on input size, which means that the effective padding may be different depending on the input image dimensionality. In this case, alignment check will be skipped. If you know the input resolution, please set it.\n"
          ]
        },
        {
          "output_type": "stream",
          "name": "stdout",
          "text": [
            "Receptive field x = 491\n",
            "Receptive field y = 491\n"
          ]
        }
      ]
    },
    {
      "cell_type": "code",
      "source": [
        ""
      ],
      "metadata": {
        "id": "gATMKP95D6tu"
      },
      "execution_count": null,
      "outputs": []
    }
  ]
}